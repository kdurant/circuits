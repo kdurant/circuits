{
 "cells": [
  {
   "cell_type": "markdown",
   "id": "8bba0c0b-e2dc-4296-a12f-d23f1db59aa3",
   "metadata": {},
   "source": [
    "# 齐次定理\n",
    "# 叠加定理\n",
    "# 电源转换\n",
    "# 戴维南定理\n",
    "## 等效电路\n",
    "1. 如果电路中没有受控源，则关闭所有的独立源（电压源短路，电流源开路）。\n",
    "2. 如果电路中有受控源，也关闭所有的独立源。但超节点和受控源不能关闭，因为它们受电路的其他变量控制。可以在端口施加电压或电流，求端口上对应的电流和电压，然后计算等效电路\n",
    "# 诺顿定理\n",
    "# 最大功率传输"
   ]
  },
  {
   "cell_type": "code",
   "execution_count": null,
   "id": "e3fa2f77-5966-4470-b4cd-88c1f4247b98",
   "metadata": {},
   "outputs": [],
   "source": [
    "from sympy import *"
   ]
  },
  {
   "cell_type": "markdown",
   "id": "1e9e82f0-076f-4dbb-bae6-5756786a46f2",
   "metadata": {},
   "source": [
    "![](./problems/4-01.png)"
   ]
  },
  {
   "cell_type": "code",
   "execution_count": 4,
   "id": "b63f700e-ecec-4e48-bff1-4ae73c137978",
   "metadata": {},
   "outputs": [
    {
     "data": {
      "text/latex": [
       "$\\displaystyle 250$"
      ],
      "text/plain": [
       "250"
      ]
     },
     "execution_count": 4,
     "metadata": {},
     "output_type": "execute_result"
    }
   ],
   "source": [
    "v1 = symbols(\"v1\")\n",
    "\n",
    "eq1 = (30-v1)/5 - v1/40 - v1/40\n",
    "ans = solve([eq1], [v1])\n",
    "\n",
    "5/(ans[v1]/40)*30"
   ]
  },
  {
   "cell_type": "markdown",
   "id": "4da431af-af76-42dc-93fe-bab7ab104b6e",
   "metadata": {},
   "source": [
    "![](./problems/4-03.png)"
   ]
  },
  {
   "cell_type": "code",
   "execution_count": 1,
   "id": "e10066d2-bd75-4c04-9708-bc43d1184b1c",
   "metadata": {},
   "outputs": [
    {
     "data": {
      "text/latex": [
       "$\\displaystyle \\frac{1}{2}$"
      ],
      "text/plain": [
       "1/2"
      ]
     },
     "execution_count": 1,
     "metadata": {},
     "output_type": "execute_result"
    }
   ],
   "source": [
    "v1, v2 = symbols(\"v1 v2\")\n",
    "eq1  = (1-v1)/1 - v1/1 - (v1-v2)/1\n",
    "eq2 = (1-v2)/1 +(v1-v2)/1 -v2/1\n",
    "ans = solve([eq1, eq2], [v1, v2])\n",
    "\n",
    "# a)\n",
    "ans[v2]"
   ]
  },
  {
   "cell_type": "markdown",
   "id": "9e523c7d-8188-4442-9bd7-9657a8606faa",
   "metadata": {},
   "source": [
    "![](./problems/4-04.png)\n",
    "\n",
    "- Is = 1A时， Ir2 = 0.5A\n",
    "- Vr6 = 1V"
   ]
  },
  {
   "cell_type": "markdown",
   "id": "54727ad8-d2e7-48b4-9f88-e915dc5d8ef5",
   "metadata": {},
   "source": [
    "![](./problems/4-05.png)"
   ]
  },
  {
   "cell_type": "code",
   "execution_count": 3,
   "id": "ef099e8b-adf6-48f5-ac3b-4211e907235d",
   "metadata": {},
   "outputs": [
    {
     "data": {
      "text/latex": [
       "$\\displaystyle \\frac{9}{2}$"
      ],
      "text/plain": [
       "9/2"
      ]
     },
     "execution_count": 3,
     "metadata": {},
     "output_type": "execute_result"
    }
   ],
   "source": [
    "vs, v1, vo = symbols(\"vs v1 vo\")\n",
    "eq1 = (vs-v1)/2 - v1/6 - (v1-vo)/3\n",
    "eq2 = (v1-vo)/3 - vo/6 - vo/6\n",
    "eq3 = vo - 1\n",
    "ans = solve([eq1, eq2, eq3], [vs, v1, vo])\n",
    "\n",
    "15/ans[vs]"
   ]
  },
  {
   "cell_type": "markdown",
   "id": "db050713-6cbc-41c7-8ef6-554ac9b092c8",
   "metadata": {},
   "source": [
    "![](./problems/4-06.png)\n",
    "\n",
    "# Easy"
   ]
  },
  {
   "cell_type": "markdown",
   "id": "1c3e1146-6742-46f1-83b2-a8241c10e432",
   "metadata": {},
   "source": [
    "![](./problems/4-07.png)"
   ]
  },
  {
   "cell_type": "markdown",
   "id": "e700d515-fbab-4896-b978-1151ad6857c7",
   "metadata": {},
   "source": [
    "![](./problems/4-08.png)"
   ]
  },
  {
   "cell_type": "markdown",
   "id": "9ba228d3-3755-49dc-92d6-a661f5688d9a",
   "metadata": {},
   "source": [
    "![](./problems/4-09.png)"
   ]
  }
 ],
 "metadata": {
  "kernelspec": {
   "display_name": "Python 3 (ipykernel)",
   "language": "python",
   "name": "python3"
  },
  "language_info": {
   "codemirror_mode": {
    "name": "ipython",
    "version": 3
   },
   "file_extension": ".py",
   "mimetype": "text/x-python",
   "name": "python",
   "nbconvert_exporter": "python",
   "pygments_lexer": "ipython3",
   "version": "3.10.6"
  }
 },
 "nbformat": 4,
 "nbformat_minor": 5
}
