{
 "cells": [
  {
   "attachments": {},
   "cell_type": "markdown",
   "id": "8bba0c0b-e2dc-4296-a12f-d23f1db59aa3",
   "metadata": {},
   "source": [
    "# 齐次定理\n",
    "# 叠加定理\n",
    "# 电源转换\n",
    "# 戴维南定理\n",
    "1. 计算等效电路\n",
    "2. 计算开路电压或者电流\n",
    "3. 将支路接入戴维南等效后的电路，计算其他参数\n",
    "## 等效电路\n",
    "1. 如果电路中没有受控源，则关闭所有的独立源（电压源短路，电流源开路）。\n",
    "2. 如果电路中有受控源，也关闭所有的独立源。但超节点和受控源不能关闭，因为它们受电路的其他变量控制。可以在端口施加电压或电流，求端口上对应的电流和电压，然后计算等效电路\n",
    "# 诺顿定理\n",
    "# 最大功率传输"
   ]
  },
  {
   "cell_type": "code",
   "execution_count": null,
   "id": "e3fa2f77-5966-4470-b4cd-88c1f4247b98",
   "metadata": {},
   "outputs": [],
   "source": [
    "from sympy import *"
   ]
  },
  {
   "attachments": {},
   "cell_type": "markdown",
   "id": "1e9e82f0-076f-4dbb-bae6-5756786a46f2",
   "metadata": {},
   "source": [
    "![](./problems/4-01.png)"
   ]
  },
  {
   "cell_type": "code",
   "execution_count": 4,
   "id": "b63f700e-ecec-4e48-bff1-4ae73c137978",
   "metadata": {},
   "outputs": [
    {
     "data": {
      "text/latex": [
       "$\\displaystyle 250$"
      ],
      "text/plain": [
       "250"
      ]
     },
     "execution_count": 4,
     "metadata": {},
     "output_type": "execute_result"
    }
   ],
   "source": [
    "v1 = symbols(\"v1\")\n",
    "\n",
    "eq1 = (30-v1)/5 - v1/40 - v1/40\n",
    "ans = solve([eq1], [v1])\n",
    "\n",
    "5/(ans[v1]/40)*30"
   ]
  },
  {
   "attachments": {},
   "cell_type": "markdown",
   "id": "4da431af-af76-42dc-93fe-bab7ab104b6e",
   "metadata": {},
   "source": [
    "![](./problems/4-03.png)"
   ]
  },
  {
   "cell_type": "code",
   "execution_count": 1,
   "id": "e10066d2-bd75-4c04-9708-bc43d1184b1c",
   "metadata": {},
   "outputs": [
    {
     "data": {
      "text/latex": [
       "$\\displaystyle \\frac{1}{2}$"
      ],
      "text/plain": [
       "1/2"
      ]
     },
     "execution_count": 1,
     "metadata": {},
     "output_type": "execute_result"
    }
   ],
   "source": [
    "v1, v2 = symbols(\"v1 v2\")\n",
    "eq1  = (1-v1)/1 - v1/1 - (v1-v2)/1\n",
    "eq2 = (1-v2)/1 +(v1-v2)/1 -v2/1\n",
    "ans = solve([eq1, eq2], [v1, v2])\n",
    "\n",
    "# a)\n",
    "ans[v2]"
   ]
  },
  {
   "attachments": {},
   "cell_type": "markdown",
   "id": "9e523c7d-8188-4442-9bd7-9657a8606faa",
   "metadata": {},
   "source": [
    "![](./problems/4-04.png)\n",
    "\n",
    "- Is = 1A时， Ir2 = 0.5A\n",
    "- Vr6 = 1V"
   ]
  },
  {
   "attachments": {},
   "cell_type": "markdown",
   "id": "54727ad8-d2e7-48b4-9f88-e915dc5d8ef5",
   "metadata": {},
   "source": [
    "![](./problems/4-05.png)"
   ]
  },
  {
   "cell_type": "code",
   "execution_count": 3,
   "id": "ef099e8b-adf6-48f5-ac3b-4211e907235d",
   "metadata": {},
   "outputs": [
    {
     "data": {
      "text/latex": [
       "$\\displaystyle \\frac{9}{2}$"
      ],
      "text/plain": [
       "9/2"
      ]
     },
     "execution_count": 3,
     "metadata": {},
     "output_type": "execute_result"
    }
   ],
   "source": [
    "vs, v1, vo = symbols(\"vs v1 vo\")\n",
    "eq1 = (vs-v1)/2 - v1/6 - (v1-vo)/3\n",
    "eq2 = (v1-vo)/3 - vo/6 - vo/6\n",
    "eq3 = vo - 1\n",
    "ans = solve([eq1, eq2, eq3], [vs, v1, vo])\n",
    "\n",
    "15/ans[vs]"
   ]
  },
  {
   "attachments": {},
   "cell_type": "markdown",
   "id": "db050713-6cbc-41c7-8ef6-554ac9b092c8",
   "metadata": {},
   "source": [
    "![](./problems/4-06.png)\n",
    "\n",
    "# Easy"
   ]
  },
  {
   "attachments": {},
   "cell_type": "markdown",
   "id": "1c3e1146-6742-46f1-83b2-a8241c10e432",
   "metadata": {},
   "source": [
    "![](./problems/4-07.png)"
   ]
  },
  {
   "attachments": {},
   "cell_type": "markdown",
   "id": "18655c39",
   "metadata": {},
   "source": [
    "1. 计算Vo=1时， 电压源应该是多少\n",
    "2. 然后按照比例确定电压源电压等于4时，输出应该是多少"
   ]
  },
  {
   "attachments": {},
   "cell_type": "markdown",
   "id": "e700d515-fbab-4896-b978-1151ad6857c7",
   "metadata": {},
   "source": [
    "![](./problems/4-08.png)"
   ]
  },
  {
   "attachments": {},
   "cell_type": "markdown",
   "id": "9ba228d3-3755-49dc-92d6-a661f5688d9a",
   "metadata": {},
   "source": [
    "![](./problems/4-09.png)"
   ]
  },
  {
   "attachments": {},
   "cell_type": "markdown",
   "id": "9a502db3",
   "metadata": {},
   "source": [
    "![](./problems/4-33.png)"
   ]
  },
  {
   "attachments": {},
   "cell_type": "markdown",
   "id": "fdde7021",
   "metadata": {},
   "source": [
    "1. 等效电阻\n",
    "   电流源开路，看5欧姆电阻的两端，Rth = 10 + 10\n",
    "2. 等效电压\n",
    "    40V"
   ]
  },
  {
   "attachments": {},
   "cell_type": "markdown",
   "id": "c6d4ccea",
   "metadata": {},
   "source": [
    "![](./problems/4-36.png)"
   ]
  },
  {
   "attachments": {},
   "cell_type": "markdown",
   "id": "5612c79c",
   "metadata": {},
   "source": [
    "# Rth\n",
    "    10 // 40 = 8\n",
    "# Vth\n",
    "    12欧姆电阻两端开路，则30V电压源无用，开路电压等于40欧姆电阻两端的电压，即：40V"
   ]
  },
  {
   "attachments": {},
   "cell_type": "markdown",
   "id": "6ccd1aed",
   "metadata": {},
   "source": [
    "![](./problems/4-37.png)"
   ]
  },
  {
   "attachments": {},
   "cell_type": "markdown",
   "id": "d50d6e3c",
   "metadata": {},
   "source": [
    "# Rth\n",
    "    电压源短路，电流源开路\n",
    "    12 // (20 + 40) = 10\n",
    "# Vth\n",
    "    40 * 12/72 = 6.67V\n",
    "    "
   ]
  },
  {
   "attachments": {},
   "cell_type": "markdown",
   "id": "5a697e9e",
   "metadata": {},
   "source": [
    "![](./problems/4-38.png)"
   ]
  },
  {
   "attachments": {},
   "cell_type": "markdown",
   "id": "de4f6675",
   "metadata": {},
   "source": [
    "# Rth\n",
    "    电压源短路，电流源开路\n",
    "    5 // (4 + 16) + 1 = 4\n",
    "# Vth\n",
    "    电流源和16欧姆电阻并联，改为电压源48V和16欧姆电阻串联，设5欧姆电阻上方节点为v1\n",
    "    `(48 - v1) / 20 = (v1-12)/5`\n",
    "    v1 = 96/5 = 19.2V\n",
    "    vo = 19.2 * 10/15\n",
    "    "
   ]
  },
  {
   "attachments": {},
   "cell_type": "markdown",
   "id": "64b7c187",
   "metadata": {},
   "source": [
    "![](./problems/4-39.png)"
   ]
  },
  {
   "cell_type": "code",
   "execution_count": 2,
   "id": "1feed6cc",
   "metadata": {},
   "outputs": [
    {
     "name": "stdout",
     "output_type": "stream",
     "text": [
      "{v₁: 132/5, v₂: -6/5}\n"
     ]
    }
   ],
   "source": [
    "from sympy import *\n",
    "v1, v2, v3, v4 = symbols(\"v1:5\")\n",
    "\n",
    "eq1 = 3 + (24 - v1) / 10 - (v1 - v2) / 10\n",
    "eq2 = (v1 - v2) / 10 - v2 / 5 - 3\n",
    "\n",
    "ans = solve([eq1, eq2], [v1, v2])\n",
    "\n",
    "pprint(ans)\n"
   ]
  },
  {
   "attachments": {},
   "cell_type": "markdown",
   "id": "b5886874",
   "metadata": {},
   "source": [
    "# Rth\n",
    "    (10 + 10) // 5 + 16 = 20欧姆\n",
    "# Vth\n",
    "    基尔霍夫电压定律：  \n",
    "    Vth - v1 + 3*16 = 0 \n",
    "    Vth = -48 - 1.2 = -49.2"
   ]
  }
 ],
 "metadata": {
  "kernelspec": {
   "display_name": "Python 3 (ipykernel)",
   "language": "python",
   "name": "python3"
  },
  "language_info": {
   "codemirror_mode": {
    "name": "ipython",
    "version": 3
   },
   "file_extension": ".py",
   "mimetype": "text/x-python",
   "name": "python",
   "nbconvert_exporter": "python",
   "pygments_lexer": "ipython3",
   "version": "3.10.6"
  }
 },
 "nbformat": 4,
 "nbformat_minor": 5
}
