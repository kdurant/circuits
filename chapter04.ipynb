{
 "cells": [
  {
   "cell_type": "code",
   "execution_count": null,
   "id": "e3fa2f77-5966-4470-b4cd-88c1f4247b98",
   "metadata": {},
   "outputs": [],
   "source": [
    "from sympy import *"
   ]
  },
  {
   "cell_type": "markdown",
   "id": "1e9e82f0-076f-4dbb-bae6-5756786a46f2",
   "metadata": {},
   "source": [
    "![](./problems/4-01.png)"
   ]
  },
  {
   "cell_type": "markdown",
   "id": "0e50264b-1e15-417d-82e7-0d554562edd3",
   "metadata": {},
   "source": [
    "![](./problems/4-02.png)"
   ]
  },
  {
   "cell_type": "markdown",
   "id": "4da431af-af76-42dc-93fe-bab7ab104b6e",
   "metadata": {},
   "source": [
    "![](./problems/4-03.png)"
   ]
  },
  {
   "cell_type": "markdown",
   "id": "9e523c7d-8188-4442-9bd7-9657a8606faa",
   "metadata": {},
   "source": [
    "![](./problems/4-04.png)"
   ]
  }
 ],
 "metadata": {
  "kernelspec": {
   "display_name": "Python 3 (ipykernel)",
   "language": "python",
   "name": "python3"
  },
  "language_info": {
   "codemirror_mode": {
    "name": "ipython",
    "version": 3
   },
   "file_extension": ".py",
   "mimetype": "text/x-python",
   "name": "python",
   "nbconvert_exporter": "python",
   "pygments_lexer": "ipython3",
   "version": "3.10.6"
  }
 },
 "nbformat": 4,
 "nbformat_minor": 5
}
