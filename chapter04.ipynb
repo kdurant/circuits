{
 "cells": [
  {
   "cell_type": "markdown",
   "id": "8bba0c0b-e2dc-4296-a12f-d23f1db59aa3",
   "metadata": {},
   "source": [
    "# 齐次定理\n",
    "# 叠加定理\n",
    "# 电源转换\n",
    "# 戴维南定理\n",
    "## 等效电路\n",
    "1. 如果电路中没有受控源，则关闭所有的独立源（电压源短路，电流源开路）。\n",
    "2. 如果电路中有受控源，也关闭所有的独立源。但超节点和受控源不能关闭，因为它们受电路的其他变量控制。可以在端口施加电压或电流，求端口上对应的电流和电压，然后计算等效电路\n",
    "# 诺顿定理\n",
    "# 最大功率传输"
   ]
  },
  {
   "cell_type": "code",
   "execution_count": null,
   "id": "e3fa2f77-5966-4470-b4cd-88c1f4247b98",
   "metadata": {},
   "outputs": [],
   "source": [
    "from sympy import *"
   ]
  },
  {
   "cell_type": "markdown",
   "id": "1e9e82f0-076f-4dbb-bae6-5756786a46f2",
   "metadata": {},
   "source": [
    "![](./problems/4-01.png)"
   ]
  },
  {
   "cell_type": "code",
   "execution_count": 4,
   "id": "b63f700e-ecec-4e48-bff1-4ae73c137978",
   "metadata": {},
   "outputs": [
    {
     "data": {
      "text/latex": [
       "$\\displaystyle 250$"
      ],
      "text/plain": [
       "250"
      ]
     },
     "execution_count": 4,
     "metadata": {},
     "output_type": "execute_result"
    }
   ],
   "source": [
    "v1 = symbols(\"v1\")\n",
    "\n",
    "eq1 = (30-v1)/5 - v1/40 - v1/40\n",
    "ans = solve([eq1], [v1])\n",
    "\n",
    "5/(ans[v1]/40)*30"
   ]
  },
  {
   "cell_type": "markdown",
   "id": "4da431af-af76-42dc-93fe-bab7ab104b6e",
   "metadata": {},
   "source": [
    "![](./problems/4-03.png)"
   ]
  },
  {
   "cell_type": "markdown",
   "id": "9e523c7d-8188-4442-9bd7-9657a8606faa",
   "metadata": {},
   "source": [
    "![](./problems/4-04.png)"
   ]
  }
 ],
 "metadata": {
  "kernelspec": {
   "display_name": "Python 3 (ipykernel)",
   "language": "python",
   "name": "python3"
  },
  "language_info": {
   "codemirror_mode": {
    "name": "ipython",
    "version": 3
   },
   "file_extension": ".py",
   "mimetype": "text/x-python",
   "name": "python",
   "nbconvert_exporter": "python",
   "pygments_lexer": "ipython3",
   "version": "3.10.6"
  }
 },
 "nbformat": 4,
 "nbformat_minor": 5
}
