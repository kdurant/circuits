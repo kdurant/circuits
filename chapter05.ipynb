{
 "cells": [
  {
   "cell_type": "markdown",
   "id": "e3c9ab14-05c7-403f-9b18-adebf77c6106",
   "metadata": {},
   "source": [
    "# 理想运放\n"
   ]
  },
  {
   "cell_type": "code",
   "execution_count": null,
   "id": "1fa878c3-a757-4781-9e0b-86a56171c599",
   "metadata": {},
   "outputs": [],
   "source": [
    "from sympy import *"
   ]
  },
  {
   "cell_type": "code",
   "execution_count": null,
   "id": "7b843a0f-9375-413f-b3be-f34a837358be",
   "metadata": {},
   "outputs": [],
   "source": []
  }
 ],
 "metadata": {
  "kernelspec": {
   "display_name": "Python 3 (ipykernel)",
   "language": "python",
   "name": "python3"
  },
  "language_info": {
   "codemirror_mode": {
    "name": "ipython",
    "version": 3
   },
   "file_extension": ".py",
   "mimetype": "text/x-python",
   "name": "python",
   "nbconvert_exporter": "python",
   "pygments_lexer": "ipython3",
   "version": "3.10.6"
  }
 },
 "nbformat": 4,
 "nbformat_minor": 5
}
