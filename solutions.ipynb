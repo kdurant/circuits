{
 "cells": [
  {
   "cell_type": "code",
   "execution_count": null,
   "id": "32b88496",
   "metadata": {},
   "outputs": [],
   "source": [
    "from sympy import *"
   ]
  },
  {
   "cell_type": "markdown",
   "id": "968c8a75",
   "metadata": {},
   "source": [
    "![](./problems/3-02.png)"
   ]
  },
  {
   "cell_type": "code",
   "execution_count": 8,
   "id": "165b3f48",
   "metadata": {},
   "outputs": [
    {
     "data": {
      "text/plain": [
       "{v1: 0, v2: 12}"
      ]
     },
     "execution_count": 8,
     "metadata": {},
     "output_type": "execute_result"
    }
   ],
   "source": [
    "# 节点电压法\n",
    "v1, v2, v3, v4, v = symbols(\"v1:5 v\")\n",
    "eq1 = -v1/10 - v1/5 - 6 -(v1-v2)/2\n",
    "eq2 = 6 + (v1-v2)/2 - v2/ 4 + 3\n",
    "solve([eq1, eq2], [v1, v2])"
   ]
  },
  {
   "cell_type": "markdown",
   "id": "cde2e0d2",
   "metadata": {},
   "source": [
    "![](./problems/3-03.png)"
   ]
  },
  {
   "cell_type": "code",
   "execution_count": 9,
   "id": "872c7004",
   "metadata": {},
   "outputs": [
    {
     "data": {
      "text/plain": [
       "{Vo: -60}"
      ]
     },
     "execution_count": 9,
     "metadata": {},
     "output_type": "execute_result"
    }
   ],
   "source": [
    "I1, I2, I3, I4, Vo = symbols(\"I1:5 Vo\")\n",
    "eq1 = 8 - Vo/10 - Vo/20 - Vo/30 - 20 - Vo/60\n",
    "solve([eq1], [Vo])"
   ]
  },
  {
   "cell_type": "markdown",
   "id": "96fa3335",
   "metadata": {},
   "source": [
    "![](./problems/3-04.png)"
   ]
  },
  {
   "cell_type": "code",
   "execution_count": 19,
   "id": "c37f1dbc",
   "metadata": {},
   "outputs": [
    {
     "name": "stdout",
     "output_type": "stream",
     "text": [
      "i1 = 3A\n",
      "i2 = 6A\n",
      "i3 = -1/2A\n",
      "i4 = -1/2\n"
     ]
    }
   ],
   "source": [
    "# 设i1和i2所在的节点电压为v1\n",
    "# i3和i4所在的节点电压为v2\n",
    "\n",
    "v1, v2 = symbols(\"v1 v2\")\n",
    "eq1 = 6 - v1/ 20 - v1/10 + 3\n",
    "eq2 = -3 - v2/ 40 - v2/40 + 2\n",
    "\n",
    "ans = solve([eq1, eq2], [v1, v2])\n",
    "print(\"i1 = {}A\\ni2 = {}A\\ni3 = {}A\\ni4 = {}A\".format(ans[v1]/20, ans[v1]/10, ans[v2]/40, ans[v2]/40) )"
   ]
  },
  {
   "cell_type": "markdown",
   "id": "de11bcc5",
   "metadata": {},
   "source": [
    "![](./problems/3-05.png)"
   ]
  },
  {
   "cell_type": "code",
   "execution_count": 20,
   "id": "497a5a55",
   "metadata": {},
   "outputs": [
    {
     "data": {
      "text/plain": [
       "{Vo: 20}"
      ]
     },
     "execution_count": 20,
     "metadata": {},
     "output_type": "execute_result"
    }
   ],
   "source": [
    "Vo = symbols(\"Vo\")\n",
    "eq1 =  -Vo/4 - (Vo-20)/5 - (Vo-30)/2\n",
    "solve([eq1], [Vo])"
   ]
  },
  {
   "cell_type": "markdown",
   "id": "def57620",
   "metadata": {},
   "source": [
    "![](./problems/3-06.png)"
   ]
  },
  {
   "cell_type": "code",
   "execution_count": 28,
   "id": "88669a77",
   "metadata": {},
   "outputs": [
    {
     "data": {
      "text/plain": [
       "{V1: -40/3}"
      ]
     },
     "execution_count": 28,
     "metadata": {},
     "output_type": "execute_result"
    }
   ],
   "source": [
    "\n",
    "V1 = symbols(\"V1\")\n",
    "eq1 = (10-V1)/10 +(10-V1)/5 - V1/10 + (V1-20)/4\n",
    "solve([eq1], [V1])"
   ]
  },
  {
   "cell_type": "markdown",
   "id": "5fe57a1b",
   "metadata": {},
   "source": [
    "![](./problems/3-07.png)"
   ]
  },
  {
   "cell_type": "code",
   "execution_count": 2,
   "id": "8fda2a31",
   "metadata": {},
   "outputs": [
    {
     "data": {
      "text/plain": [
       "{Vx: 5.71428571428571}"
      ]
     },
     "execution_count": 2,
     "metadata": {},
     "output_type": "execute_result"
    }
   ],
   "source": [
    "Vx = symbols(\"Vx\")\n",
    "eq1 = 2 - Vx/10 - Vx/20 -0.2*Vx\n",
    "solve([eq1], [Vx])"
   ]
  },
  {
   "cell_type": "markdown",
   "id": "3d8bd506",
   "metadata": {},
   "source": [
    "![](./problems/3-08.png)"
   ]
  },
  {
   "cell_type": "code",
   "execution_count": 3,
   "id": "efe575a2",
   "metadata": {},
   "outputs": [
    {
     "data": {
      "text/plain": [
       "{Vo: 12, V1: 30}"
      ]
     },
     "execution_count": 3,
     "metadata": {},
     "output_type": "execute_result"
    }
   ],
   "source": [
    "Vo, V1 = symbols(\"Vo V1\")\n",
    "eq1 = -(V1-Vo)/6  - (V1-60)/20 - (V1- 5*Vo)/20\n",
    "eq2 = (V1-Vo)/6 - Vo/4\n",
    "\n",
    "solve([eq1, eq2], [Vo, V1])"
   ]
  },
  {
   "cell_type": "markdown",
   "id": "52f9b1c8",
   "metadata": {},
   "source": [
    "![](./problems/3-09.png)"
   ]
  },
  {
   "cell_type": "markdown",
   "id": "b0bffb4a",
   "metadata": {},
   "source": [
    "![](./problems/3-10.png)"
   ]
  },
  {
   "cell_type": "markdown",
   "id": "6849dbf0",
   "metadata": {},
   "source": [
    "![](./problems/3-11.png)"
   ]
  },
  {
   "cell_type": "markdown",
   "id": "57da27cf",
   "metadata": {},
   "source": [
    "![](./problems/3-12.png)"
   ]
  },
  {
   "cell_type": "markdown",
   "id": "aef73862",
   "metadata": {},
   "source": [
    "![](./problems/3-13.png)"
   ]
  },
  {
   "cell_type": "markdown",
   "id": "db6df02f",
   "metadata": {},
   "source": [
    "![](./problems/3-14.png)"
   ]
  },
  {
   "cell_type": "markdown",
   "id": "c31d0e5f",
   "metadata": {},
   "source": [
    "![](./problems/3-15.png)"
   ]
  },
  {
   "cell_type": "markdown",
   "id": "a3c8f7fa",
   "metadata": {},
   "source": [
    "![](./problems/3-16.png)"
   ]
  },
  {
   "cell_type": "markdown",
   "id": "ef0ed5ad",
   "metadata": {},
   "source": [
    "![](./problems/3-27.png)"
   ]
  },
  {
   "cell_type": "code",
   "execution_count": 5,
   "id": "915388f8",
   "metadata": {},
   "outputs": [
    {
     "name": "stdout",
     "output_type": "stream",
     "text": [
      "{v1: 61/22, v2: 48/11, v3: 155/22, io: 12/11}\n"
     ]
    }
   ],
   "source": [
    "\n",
    "\n",
    "v1, v2, v3, v4, v = symbols(\"v1:5 v\")\n",
    "i1, i2, i3, i4, io = symbols(\"i1:5 io\")\n",
    "\n",
    "eq1 = 2 - v1 / 2 - (v1 - v2) / 1 - 3 * io - (v1 - v3) / 4\n",
    "eq2 = (v1 - v2) / 1 - v2 / 4 - (v2 - v3) / 1\n",
    "eq3 = (v2 - v3) / 1 + 3 * io + (v1 - v3) / 4 - v3 / 2 + 4\n",
    "eq4 = io - v2 / 4\n",
    "# ans = solve([eq1, eq2, eq3, eq4], [v1, v2, v3, io])\n",
    "\n",
    "#print(solve([eq1, eq2, eq3, eq4, eq5], [v1, v2, v3, io, v]))\n",
    "print(solve([eq1, eq2, eq3, eq4], [v1, v2, v3, io]))"
   ]
  },
  {
   "cell_type": "code",
   "execution_count": null,
   "id": "59c355a1-3012-463b-81bf-936f506384d0",
   "metadata": {},
   "outputs": [],
   "source": [
    "![](./problems/7-45.png)"
   ]
  },
  {
   "cell_type": "code",
   "execution_count": null,
   "id": "9e245354-4b87-4af6-a2a5-7531388dae33",
   "metadata": {},
   "outputs": [],
   "source": [
    "eq1 = (30 - 0.03*u(t).diff(t) - u(t))/20 - (0.03*u(t).diff(t) + u(t))/40 - (0.03*u(t).diff(t) + u(t) -u(t))/10\n",
    "ics = {u(0) : 5}\n",
    "pprint(dsolve(eq1, ics = ics))"
   ]
  }
 ],
 "metadata": {
  "kernelspec": {
   "display_name": "Python 3 (ipykernel)",
   "language": "python",
   "name": "python3"
  },
  "language_info": {
   "codemirror_mode": {
    "name": "ipython",
    "version": 3
   },
   "file_extension": ".py",
   "mimetype": "text/x-python",
   "name": "python",
   "nbconvert_exporter": "python",
   "pygments_lexer": "ipython3",
   "version": "3.10.6"
  }
 },
 "nbformat": 4,
 "nbformat_minor": 5
}
