{
 "cells": [
  {
   "cell_type": "code",
   "execution_count": 1,
   "id": "52bcb149",
   "metadata": {},
   "outputs": [
    {
     "name": "stdout",
     "output_type": "stream",
     "text": [
      "{x: 1, y: 1}\n"
     ]
    }
   ],
   "source": [
    "from sympy import *\n",
    "\n",
    "# 解线性方程组\n",
    "x, y = symbols(\"x y\")\n",
    "print(solve([x + y - 2, x - y], [x, y]))"
   ]
  },
  {
   "cell_type": "code",
   "execution_count": 2,
   "id": "99513a3e",
   "metadata": {},
   "outputs": [
    {
     "name": "stdout",
     "output_type": "stream",
     "text": [
      "{x: a/2 - b/2, y: a/2 + b/2}\n"
     ]
    }
   ],
   "source": [
    "# 解符号方程组\n",
    "x, y, a, b = symbols(\"x y a b\")\n",
    "print(solve([x + y - a, x - y + b], [x, y]))"
   ]
  },
  {
   "cell_type": "code",
   "execution_count": 3,
   "id": "179cdc01",
   "metadata": {},
   "outputs": [
    {
     "name": "stdout",
     "output_type": "stream",
     "text": [
      "1/3 + E\n",
      "1/2\n"
     ]
    }
   ],
   "source": [
    "# 一重定积分\n",
    "print(integrate(x**2 + exp(x) + 1, (x, 0, 1)))\n",
    "print(integrate(x, (x, 0, 1)))"
   ]
  },
  {
   "cell_type": "code",
   "execution_count": 5,
   "id": "d4fa767f",
   "metadata": {},
   "outputs": [
    {
     "name": "stdout",
     "output_type": "stream",
     "text": [
      "x**2/2\n"
     ]
    }
   ],
   "source": [
    "# 一重不定积分\n",
    "print(integrate(x**2 + exp(x) + 1, x))\n",
    "print(integrate(x, (x)))"
   ]
  },
  {
   "cell_type": "code",
   "execution_count": 6,
   "id": "e44b57fb",
   "metadata": {},
   "outputs": [
    {
     "name": "stdout",
     "output_type": "stream",
     "text": [
      "2*x\n"
     ]
    }
   ],
   "source": [
    "# 微分\n",
    "print(diff(x**2, (x)))"
   ]
  },
  {
   "cell_type": "code",
   "execution_count": 7,
   "id": "f225e945",
   "metadata": {},
   "outputs": [
    {
     "data": {
      "text/latex": [
       "$\\displaystyle 2^{a + 1} - 2$"
      ],
      "text/plain": [
       "2**(a + 1) - 2"
      ]
     },
     "execution_count": 7,
     "metadata": {},
     "output_type": "execute_result"
    }
   ],
   "source": [
    "# 数列求和\n",
    "x, a = symbols(\"x a\")\n",
    "Sum(2 ** x, (x, 1, a)).doit()\n"
   ]
  },
  {
   "cell_type": "code",
   "execution_count": 10,
   "id": "415fb504",
   "metadata": {},
   "outputs": [
    {
     "data": {
      "text/latex": [
       "$\\displaystyle 1 + i$"
      ],
      "text/plain": [
       "1 + I"
      ]
     },
     "execution_count": 10,
     "metadata": {},
     "output_type": "execute_result"
    }
   ],
   "source": [
    "# 返回复数实数部分\n",
    "re(2*I + 17)\n"
   ]
  },
  {
   "cell_type": "code",
   "execution_count": 11,
   "id": "ed20140a",
   "metadata": {},
   "outputs": [
    {
     "data": {
      "text/latex": [
       "$\\displaystyle 2$"
      ],
      "text/plain": [
       "2"
      ]
     },
     "execution_count": 11,
     "metadata": {},
     "output_type": "execute_result"
    }
   ],
   "source": [
    "# 返回复数的虚数部分\n",
    "im(2*I + 17)\n"
   ]
  },
  {
   "cell_type": "code",
   "execution_count": 12,
   "id": "ed5bbcec",
   "metadata": {},
   "outputs": [
    {
     "data": {
      "text/latex": [
       "$\\displaystyle 2$"
      ],
      "text/plain": [
       "2"
      ]
     },
     "execution_count": 12,
     "metadata": {},
     "output_type": "execute_result"
    }
   ],
   "source": [
    "# 复数的模\n",
    "abs(I+1)\n",
    "abs(sqrt(2)*I+sqrt(2))"
   ]
  },
  {
   "cell_type": "code",
   "execution_count": 13,
   "id": "cc71203a",
   "metadata": {},
   "outputs": [
    {
     "data": {
      "text/latex": [
       "$\\displaystyle 1 + i$"
      ],
      "text/plain": [
       "1 + I"
      ]
     },
     "execution_count": 13,
     "metadata": {},
     "output_type": "execute_result"
    }
   ],
   "source": [
    "# 返回共轭数\n",
    "conjugate(1 - I)"
   ]
  },
  {
   "cell_type": "code",
   "execution_count": 14,
   "id": "db5d04ff",
   "metadata": {},
   "outputs": [
    {
     "data": {
      "text/latex": [
       "$\\displaystyle 0.642787609686539$"
      ],
      "text/plain": [
       "0.642787609686539"
      ]
     },
     "execution_count": 14,
     "metadata": {},
     "output_type": "execute_result"
    }
   ],
   "source": [
    "# 计算角度值\n",
    "import math\n",
    "cos(math.radians(50))"
   ]
  },
  {
   "cell_type": "code",
   "execution_count": 15,
   "id": "c26201ae",
   "metadata": {},
   "outputs": [
    {
     "data": {
      "text/plain": [
       "90.0"
      ]
     },
     "execution_count": 15,
     "metadata": {},
     "output_type": "execute_result"
    }
   ],
   "source": [
    "# 弧度转换为角度\n",
    "math.degrees(math.pi/2)  "
   ]
  },
  {
   "cell_type": "code",
   "execution_count": 16,
   "id": "9e2a56b6",
   "metadata": {},
   "outputs": [
    {
     "data": {
      "text/plain": [
       "3.141592653589793"
      ]
     },
     "execution_count": 16,
     "metadata": {},
     "output_type": "execute_result"
    }
   ],
   "source": [
    "# 角度转换为弧度\n",
    "math.radians(180)"
   ]
  },
  {
   "cell_type": "code",
   "execution_count": 2,
   "id": "084e2461-e4e4-4cb3-b626-26da42f01ec9",
   "metadata": {},
   "outputs": [
    {
     "data": {
      "image/png": "[encoded data removed]",
      "text/plain": [
       "<Figure size 640x480 with 1 Axes>"
      ]
     },
     "metadata": {},
     "output_type": "display_data"
    },
    {
     "data": {
      "text/plain": [
       "<sympy.plotting.plot.Plot at 0x7f4c41b40970>"
      ]
     },
     "execution_count": 2,
     "metadata": {},
     "output_type": "execute_result"
    }
   ],
   "source": [
    "# 表示符号函数\n",
    "p, v, i, t, C = symbols(\"p v i t C\")\n",
    "v = Piecewise((5*t, And(t > 0, t <= 2)), (-5*(t-4), And(t > 2, t <= 6)), (5*(t-8), And(t > 6, t < 8)) )\n",
    "plot(v, diff(v, t))"
   ]
  }
 ],
 "metadata": {
  "kernelspec": {
   "display_name": "Python 3 (ipykernel)",
   "language": "python",
   "name": "python3"
  },
  "language_info": {
   "codemirror_mode": {
    "name": "ipython",
    "version": 3
   },
   "file_extension": ".py",
   "mimetype": "text/x-python",
   "name": "python",
   "nbconvert_exporter": "python",
   "pygments_lexer": "ipython3",
   "version": "3.10.6"
  }
 },
 "nbformat": 4,
 "nbformat_minor": 5
}
