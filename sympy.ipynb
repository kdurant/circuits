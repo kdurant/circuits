{
 "cells": [
  {
   "cell_type": "code",
   "execution_count": 10,
   "id": "52bcb149",
   "metadata": {},
   "outputs": [
    {
     "name": "stdout",
     "output_type": "stream",
     "text": [
      "{x: 1, y: 1}\n"
     ]
    }
   ],
   "source": [
    "from sympy import *\n",
    "\n",
    "# 解线性方程组\n",
    "x, y, t = symbols(\"x y t\")\n",
    "print(solve([x + y - 2, x - y], [x, y]))"
   ]
  },
  {
   "cell_type": "code",
   "execution_count": 2,
   "id": "99513a3e",
   "metadata": {},
   "outputs": [
    {
     "name": "stdout",
     "output_type": "stream",
     "text": [
      "{x: a/2 - b/2, y: a/2 + b/2}\n"
     ]
    }
   ],
   "source": [
    "# 解符号方程组\n",
    "x, y, a, b = symbols(\"x y a b\")\n",
    "print(solve([x + y - a, x - y + b], [x, y]))"
   ]
  },
  {
   "cell_type": "code",
   "execution_count": 3,
   "id": "179cdc01",
   "metadata": {},
   "outputs": [
    {
     "name": "stdout",
     "output_type": "stream",
     "text": [
      "1/3 + E\n",
      "1/2\n"
     ]
    }
   ],
   "source": [
    "# 一重定积分\n",
    "print(integrate(x**2 + exp(x) + 1, (x, 0, 1)))\n",
    "print(integrate(x, (x, 0, 1)))"
   ]
  },
  {
   "cell_type": "code",
   "execution_count": 13,
   "id": "d4fa767f",
   "metadata": {},
   "outputs": [
    {
     "name": "stdout",
     "output_type": "stream",
     "text": [
      "x**3/3 + x + exp(x)\n",
      "x**2/2\n",
      "⌠     \n",
      "⎮ x dt\n",
      "⌡     \n"
     ]
    }
   ],
   "source": [
    "# 一重不定积分\n",
    "print(integrate(x**2 + exp(x) + 1, x))\n",
    "print(integrate(x, (x)))\n",
    "pprint(Integral(x, t))"
   ]
  },
  {
   "cell_type": "code",
   "execution_count": 6,
   "id": "e44b57fb",
   "metadata": {},
   "outputs": [
    {
     "name": "stdout",
     "output_type": "stream",
     "text": [
      "2*x\n",
      "d         \n",
      "──(cos(x))\n",
      "dx        \n"
     ]
    }
   ],
   "source": [
    "# 微分\n",
    "print(diff(x**2, (x)))\n",
    "pprint(Derivative(cos(x), x))"
   ]
  },
  {
   "cell_type": "code",
   "execution_count": 15,
   "id": "606b3c7d-15df-4521-857b-c585729f442f",
   "metadata": {},
   "outputs": [
    {
     "name": "stdout",
     "output_type": "stream",
     "text": [
      "                -t \n",
      "                ───\n",
      "                 8 \n",
      "v(t) = 20 - 16⋅ℯ   \n"
     ]
    }
   ],
   "source": [
    "# 求解微分方程1\n",
    "t = symbols(\"t\")\n",
    "v = Function('v')\n",
    "\n",
    "# 根据KVL,列写开关打开后的电路微分方程\n",
    "# eq = 20 - 2* diff(v(t), t) * 4 - v(t) \n",
    "eq = 20 - 2* v(t).diff(t) * 4 - v(t) \n",
    "\n",
    "\n",
    "# 换路时刻前，电容的电压作为微分方程的初始值\n",
    "ics = {v(0) : 4}\n",
    "pprint(dsolve(eq, ics = ics))"
   ]
  },
  {
   "cell_type": "code",
   "execution_count": 27,
   "id": "47a37fa5-5cb4-4bdb-90f5-7f775ad67349",
   "metadata": {},
   "outputs": [
    {
     "name": "stdout",
     "output_type": "stream",
     "text": [
      "       d ⎛ 2⎞\n",
      "20 - 2⋅──⎝x ⎠\n",
      "       dx    \n"
     ]
    }
   ],
   "source": [
    "\n",
    "eq = 20 - 2*Derivative(x**2) \n",
    "# solve(eq)\n",
    "pprint(eq)"
   ]
  },
  {
   "cell_type": "code",
   "execution_count": 25,
   "id": "69ef3c89-e7b0-40cf-b3b7-a2e0efa9ac17",
   "metadata": {},
   "outputs": [
    {
     "name": "stdout",
     "output_type": "stream",
     "text": [
      "                      2⋅sin(3⋅x)    \n",
      "2⋅sin(x) - sin(2⋅x) + ────────── + …\n",
      "                          3         \n"
     ]
    }
   ],
   "source": [
    "# 傅立叶级数\n",
    "\n",
    "s = fourier_series(x, (x, -pi, pi))\n",
    "pprint(s)"
   ]
  },
  {
   "cell_type": "code",
   "execution_count": 19,
   "id": "ac56fb85-eebd-4bae-bc51-26a4ae1a9482",
   "metadata": {},
   "outputs": [
    {
     "data": {
      "text/plain": [
       "(24/s**5, 0, True)"
      ]
     },
     "execution_count": 19,
     "metadata": {},
     "output_type": "execute_result"
    }
   ],
   "source": [
    "# 拉普拉斯变换\n",
    "t, s, a = symbols(\"t s a\")\n",
    "laplace_transform(t**4, t, s)"
   ]
  },
  {
   "cell_type": "code",
   "execution_count": 7,
   "id": "f225e945",
   "metadata": {},
   "outputs": [
    {
     "data": {
      "text/latex": [
       "$\\displaystyle 2^{a + 1} - 2$"
      ],
      "text/plain": [
       "2**(a + 1) - 2"
      ]
     },
     "execution_count": 7,
     "metadata": {},
     "output_type": "execute_result"
    }
   ],
   "source": [
    "# 数列求和\n",
    "x, a = symbols(\"x a\")\n",
    "Sum(2 ** x, (x, 1, a)).doit()\n"
   ]
  },
  {
   "cell_type": "code",
   "execution_count": 10,
   "id": "415fb504",
   "metadata": {},
   "outputs": [
    {
     "data": {
      "text/latex": [
       "$\\displaystyle 1 + i$"
      ],
      "text/plain": [
       "1 + I"
      ]
     },
     "execution_count": 10,
     "metadata": {},
     "output_type": "execute_result"
    }
   ],
   "source": [
    "# 返回复数实数部分\n",
    "re(2*I + 17)\n"
   ]
  },
  {
   "cell_type": "code",
   "execution_count": 11,
   "id": "ed20140a",
   "metadata": {},
   "outputs": [
    {
     "data": {
      "text/latex": [
       "$\\displaystyle 2$"
      ],
      "text/plain": [
       "2"
      ]
     },
     "execution_count": 11,
     "metadata": {},
     "output_type": "execute_result"
    }
   ],
   "source": [
    "# 返回复数的虚数部分\n",
    "im(2*I + 17)\n"
   ]
  },
  {
   "cell_type": "code",
   "execution_count": 12,
   "id": "ed5bbcec",
   "metadata": {},
   "outputs": [
    {
     "data": {
      "text/latex": [
       "$\\displaystyle 2$"
      ],
      "text/plain": [
       "2"
      ]
     },
     "execution_count": 12,
     "metadata": {},
     "output_type": "execute_result"
    }
   ],
   "source": [
    "# 复数的模\n",
    "abs(I+1)\n",
    "abs(sqrt(2)*I+sqrt(2))"
   ]
  },
  {
   "cell_type": "code",
   "execution_count": 13,
   "id": "cc71203a",
   "metadata": {},
   "outputs": [
    {
     "data": {
      "text/latex": [
       "$\\displaystyle 1 + i$"
      ],
      "text/plain": [
       "1 + I"
      ]
     },
     "execution_count": 13,
     "metadata": {},
     "output_type": "execute_result"
    }
   ],
   "source": [
    "# 返回共轭数\n",
    "conjugate(1 - I)"
   ]
  },
  {
   "cell_type": "code",
   "execution_count": 14,
   "id": "db5d04ff",
   "metadata": {},
   "outputs": [
    {
     "data": {
      "text/latex": [
       "$\\displaystyle 0.642787609686539$"
      ],
      "text/plain": [
       "0.642787609686539"
      ]
     },
     "execution_count": 14,
     "metadata": {},
     "output_type": "execute_result"
    }
   ],
   "source": [
    "# 计算角度值\n",
    "import math\n",
    "cos(math.radians(50))"
   ]
  },
  {
   "cell_type": "code",
   "execution_count": 15,
   "id": "c26201ae",
   "metadata": {},
   "outputs": [
    {
     "data": {
      "text/plain": [
       "90.0"
      ]
     },
     "execution_count": 15,
     "metadata": {},
     "output_type": "execute_result"
    }
   ],
   "source": [
    "# 弧度转换为角度\n",
    "math.degrees(math.pi/2)  "
   ]
  },
  {
   "cell_type": "code",
   "execution_count": 16,
   "id": "9e2a56b6",
   "metadata": {},
   "outputs": [
    {
     "data": {
      "text/plain": [
       "3.141592653589793"
      ]
     },
     "execution_count": 16,
     "metadata": {},
     "output_type": "execute_result"
    }
   ],
   "source": [
    "# 角度转换为弧度\n",
    "math.radians(180)"
   ]
  },
  {
   "cell_type": "code",
   "execution_count": 2,
   "id": "084e2461-e4e4-4cb3-b626-26da42f01ec9",
   "metadata": {},
   "outputs": [
    {
     "data": {
      "image/png": "[encoded data removed]",
      "text/plain": [
       "<Figure size 640x480 with 1 Axes>"
      ]
     },
     "metadata": {},
     "output_type": "display_data"
    },
    {
     "data": {
      "text/plain": [
       "<sympy.plotting.plot.Plot at 0x7f4c41b40970>"
      ]
     },
     "execution_count": 2,
     "metadata": {},
     "output_type": "execute_result"
    }
   ],
   "source": [
    "# 表示分段函数\n",
    "p, v, i, t, C = symbols(\"p v i t C\")\n",
    "v = Piecewise((5*t, And(t > 0, t <= 2)), (-5*(t-4), And(t > 2, t <= 6)), (5*(t-8), And(t > 6, t < 8)) )\n",
    "plot(v, diff(v, t))"
   ]
  },
  {
   "cell_type": "code",
   "execution_count": 15,
   "id": "bb05009f-64a9-4d88-9d9a-7d737caaf0f0",
   "metadata": {},
   "outputs": [
    {
     "data": {
      "image/png": "[encoded data removed]",
      "text/plain": [
       "<Figure size 640x480 with 1 Axes>"
      ]
     },
     "metadata": {},
     "output_type": "display_data"
    },
    {
     "data": {
      "image/png": "[encoded data removed]",
      "text/plain": [
       "<Figure size 640x480 with 1 Axes>"
      ]
     },
     "metadata": {},
     "output_type": "display_data"
    },
    {
     "data": {
      "text/plain": [
       "<sympy.plotting.plot.Plot at 0x7f2654144580>"
      ]
     },
     "execution_count": 15,
     "metadata": {},
     "output_type": "execute_result"
    }
   ],
   "source": [
    "# 阶跃函数\n",
    "from sympy import *\n",
    "x = symbols(\"x\")\n",
    "plot(Heaviside(x), Heaviside(x)*x, (x,0, 5))\n",
    "plot(Heaviside(x-1) - Heaviside(x-5))"
   ]
  },
  {
   "cell_type": "code",
   "execution_count": 16,
   "id": "f2a8471c-0c52-4dba-bf76-c25036f15e63",
   "metadata": {},
   "outputs": [
    {
     "data": {
      "image/png": "[encoded data removed]",
      "text/plain": [
       "<Figure size 640x480 with 1 Axes>"
      ]
     },
     "metadata": {},
     "output_type": "display_data"
    },
    {
     "data": {
      "text/plain": [
       "<sympy.plotting.plot.Plot at 0x7f2654162860>"
      ]
     },
     "execution_count": 16,
     "metadata": {},
     "output_type": "execute_result"
    }
   ],
   "source": [
    "#  狄拉克里函数\n",
    "plot(DiracDelta(x))"
   ]
  },
  {
   "cell_type": "code",
   "execution_count": 17,
   "id": "dfed7242-7f50-4488-8926-ac6618a28274",
   "metadata": {},
   "outputs": [
    {
     "data": {
      "image/png": "[encoded data removed]",
      "text/plain": [
       "<Figure size 640x480 with 2 Axes>"
      ]
     },
     "metadata": {},
     "output_type": "display_data"
    }
   ],
   "source": [
    "# 绘制转移函数的bode图\n",
    "# from sympy.abc import s\n",
    "from sympy.physics.control.lti import TransferFunction\n",
    "from sympy.physics.control.control_plots import bode_plot\n",
    "s = symbols(\"s\")\n",
    "\n",
    "tf1 = TransferFunction(5, s**2 + 8*s + 5, s)\n",
    "# tf1 = TransferFunction(1*s**2 + 0.1*s + 7.5, 1*s**4 + 0.12*s**3 + 9*s**2, s)\n",
    "bode_plot(tf1, phase_unit=\"deg\")   "
   ]
  },
  {
   "cell_type": "code",
   "execution_count": 6,
   "id": "ceba5cb4-f3f0-4563-9aee-d01b77f663c9",
   "metadata": {},
   "outputs": [
    {
     "data": {
      "text/latex": [
       "$\\displaystyle a - b$"
      ],
      "text/plain": [
       "a - b"
      ]
     },
     "execution_count": 6,
     "metadata": {},
     "output_type": "execute_result"
    }
   ],
   "source": [
    "#获得分数的分子和分母\n",
    "a, b = symbols(\"a, b\")\n",
    "s = (a+b)/(a-b)\n",
    "numer(s)\n",
    "denom(s)"
   ]
  },
  {
   "cell_type": "code",
   "execution_count": 8,
   "id": "d59b69ab-2915-48de-ba03-3ef08b0499bc",
   "metadata": {},
   "outputs": [
    {
     "data": {
      "text/latex": [
       "$\\displaystyle 1$"
      ],
      "text/plain": [
       "1"
      ]
     },
     "execution_count": 8,
     "metadata": {},
     "output_type": "execute_result"
    }
   ],
   "source": [
    "x = symbols(\"x\")\n",
    "# 通用数学表达式的化简\n",
    "simplify(sin(x)**2 + cos(x)**2)"
   ]
  },
  {
   "cell_type": "code",
   "execution_count": 13,
   "id": "cb31f73f-ec96-48c2-ab03-f0d53a492ce7",
   "metadata": {},
   "outputs": [
    {
     "data": {
      "text/latex": [
       "$\\displaystyle x^{2} + x$"
      ],
      "text/plain": [
       "x**2 + x"
      ]
     },
     "execution_count": 13,
     "metadata": {},
     "output_type": "execute_result"
    }
   ],
   "source": [
    "# 展开数学表达式\n",
    "x = symbols(\"x\")\n",
    "expand((x+1)*x)"
   ]
  },
  {
   "cell_type": "code",
   "execution_count": 14,
   "id": "abb94ecb-f8a6-4806-82a9-d9e2effd0a7d",
   "metadata": {},
   "outputs": [
    {
     "data": {
      "text/latex": [
       "$\\displaystyle \\left(x - 1\\right) \\left(x^{2} + 1\\right)$"
      ],
      "text/plain": [
       "(x - 1)*(x**2 + 1)"
      ]
     },
     "execution_count": 14,
     "metadata": {},
     "output_type": "execute_result"
    }
   ],
   "source": [
    "# 因式分解\n",
    "factor(x**3 - x**2 + x - 1)"
   ]
  },
  {
   "cell_type": "markdown",
   "id": "82ed8006-fb4f-4f2f-8eee-0953f9da1cee",
   "metadata": {},
   "source": [
    "[使用sympy进行表达式化简](https://blog.csdn.net/shuangguo121/article/details/86611948)\n",
    "# 合并同类项 collect\n",
    "# 分式化简 cancel\n",
    "# 分式裂项, 将一个分式分解为几个分式的和、差。且分解出来的分式，都是最简形式 apart\n",
    "# 三角化简 trigsimp\n",
    "# 三角展开 expand_trig\n",
    "# 指数化简 powsimp\n"
   ]
  },
  {
   "cell_type": "markdown",
   "id": "62ad32e1-1f37-42d0-aeab-aa8dfed4cc10",
   "metadata": {},
   "source": [
    "# markdown对齐公式\n",
    "\\begin{align*}\n",
    "g(t) &= 8sin(t)+4cos(t+50) \\\\\n",
    "&= 8sin(t+90-90) + 4cos(t+50) \\\\\n",
    "&= 8cos(t-90) + 4cos(t+50)\n",
    "\\end{align*}"
   ]
  },
  {
   "cell_type": "code",
   "execution_count": 4,
   "id": "036e54ff",
   "metadata": {},
   "outputs": [
    {
     "name": "stdout",
     "output_type": "stream",
     "text": [
      "Matrix([[6, 8], [10, 12]])\n"
     ]
    }
   ],
   "source": [
    "# 矩阵计算\n",
    "from sympy import Matrix\n",
    "\n",
    "A = Matrix([[1, 2], [3, 4]])\n",
    "B = Matrix([[5, 6], [7, 8]])\n",
    "C = A + B\n",
    "print(C)"
   ]
  },
  {
   "cell_type": "code",
   "execution_count": 1,
   "id": "e3e9030e",
   "metadata": {},
   "outputs": [],
   "source": [
    "# 向量计算\n",
    "## 创建向量\n",
    "from sympy.vector import CoordSys3D\n",
    "\n",
    "N = CoordSys3D('N')   # 定义一个三维坐标系\n",
    "v = 1*N.i + 2*N.j + 3*N.k  # 定义一个三维向量\n",
    "\n",
    "## 向量加减法\n",
    "w = 4*N.i + 5*N.j + 6*N.k  # 定义另一个三维向量\n",
    "u = v + w  # 计算向量和\n",
    "\n",
    "## 向量点积\n",
    "u.dot(v)\n",
    "\n",
    "## 向量叉积\n",
    "u.cross(v)\n",
    "\n",
    "## 向量模长\n",
    "u.magnitude()\n",
    "\n",
    "## 向量夹角\n",
    "cos_angle = v.dot(w) / (v.magnitude() * w.magnitude())  # 计算夹角的余弦值\n",
    "angle = sympy.acos(cos_angle)  # 计算夹角\n",
    "angle_deg = sympy.deg(angle)  # 将弧度制夹角转换为度数制\n"
   ]
  },
  {
   "cell_type": "code",
   "execution_count": null,
   "id": "2c79b2c6",
   "metadata": {},
   "outputs": [],
   "source": [
    "# 计算梯度，散度，旋度\n",
    "\n",
    "## 梯度\n",
    "from sympy import symbols, diff\n",
    "\n",
    "x, y, z = symbols('x y z')\n",
    "f = x**2*y + y*z**3\n",
    "\n",
    "grad_f = [diff(f, var) for var in [x, y, z]]\n",
    "grad_f  # Output the gradient as a list\n",
    "\n",
    "# 散度\n",
    "from sympy import symbols, Matrix, diff\n",
    "\n",
    "x, y, z = symbols('x y z')\n",
    "F = Matrix([2*x, 3*y**2, z**3])\n",
    "\n",
    "div_F = diff(F[0], x) + diff(F[1], y) + diff(F[2], z)\n",
    "div_F.simplify()  # Simplify the result\n",
    "\n",
    "# 旋度\n",
    "from sympy import symbols, Matrix, diff\n",
    "\n",
    "x, y, z = symbols('x y z')\n",
    "F = Matrix([x**2, y**2, z**2])\n",
    "\n",
    "curl_F = Matrix([diff(F[2], y) - diff(F[1], z),\n",
    "                 diff(F[0], z) - diff(F[2], x),\n",
    "                 diff(F[1], x) - diff(F[0], y)])\n",
    "curl_F.simplify()  # Simplify the result"
   ]
  }
 ],
 "metadata": {
  "kernelspec": {
   "display_name": "Python 3 (ipykernel)",
   "language": "python",
   "name": "python3"
  },
  "language_info": {
   "codemirror_mode": {
    "name": "ipython",
    "version": 3
   },
   "file_extension": ".py",
   "mimetype": "text/x-python",
   "name": "python",
   "nbconvert_exporter": "python",
   "pygments_lexer": "ipython3",
   "version": "3.10.6"
  }
 },
 "nbformat": 4,
 "nbformat_minor": 5
}
