{
 "cells": [
  {
   "cell_type": "code",
   "execution_count": null,
   "id": "34b9380b-3f9d-44ac-b767-6d323c3c646e",
   "metadata": {},
   "outputs": [],
   "source": [
    "# 寻找初值和终值\n",
    "# 无源串联RLC电路\n",
    "# 无源并联RLC电路\n",
    "# 串联RLC电路的阶跃相应\n",
    "# 并联RLC电路的阶跃相应\n",
    "# 常见的二阶电路\n",
    "# 二阶运算放大器电路\n",
    "# 使用PSpice分析二阶电路"
   ]
  },
  {
   "cell_type": "code",
   "execution_count": null,
   "id": "d4cb271a-0f41-434b-82a6-83c9387225a8",
   "metadata": {},
   "outputs": [],
   "source": [
    "from sympy import *"
   ]
  },
  {
   "cell_type": "markdown",
   "id": "0054332b-1e96-4238-8b34-cb7497bd93c2",
   "metadata": {},
   "source": [
    "![](./problems/8-01.png)"
   ]
  },
  {
   "cell_type": "markdown",
   "id": "0dac3dab-44ba-46e9-bfc7-bc48a206dce3",
   "metadata": {},
   "source": [
    "![](./problems/8-03.png)"
   ]
  },
  {
   "cell_type": "markdown",
   "id": "d65a4028-9944-4810-b2c1-6bb06ae5ba69",
   "metadata": {},
   "source": [
    "![](./problems/8-04.png)"
   ]
  }
 ],
 "metadata": {
  "kernelspec": {
   "display_name": "Python 3 (ipykernel)",
   "language": "python",
   "name": "python3"
  },
  "language_info": {
   "codemirror_mode": {
    "name": "ipython",
    "version": 3
   },
   "file_extension": ".py",
   "mimetype": "text/x-python",
   "name": "python",
   "nbconvert_exporter": "python",
   "pygments_lexer": "ipython3",
   "version": "3.10.6"
  }
 },
 "nbformat": 4,
 "nbformat_minor": 5
}
