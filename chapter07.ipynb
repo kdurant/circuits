{
 "cells": [
  {
   "cell_type": "code",
   "execution_count": null,
   "id": "56da9dd9-c185-4bfa-b26e-ba9b79f5ad6e",
   "metadata": {},
   "outputs": [],
   "source": [
    "from sympy import *"
   ]
  },
  {
   "cell_type": "markdown",
   "id": "9a950d34-0631-4dc2-86cd-613fc68ccb79",
   "metadata": {},
   "source": [
    "![](./problems/7-01.png)"
   ]
  },
  {
   "cell_type": "markdown",
   "id": "800c65a1-fc24-461a-8795-9a2b70f63421",
   "metadata": {},
   "source": [
    "![](./problems/7-02.png)"
   ]
  },
  {
   "cell_type": "markdown",
   "id": "ea71b017-543c-4a38-9999-34bc24d75190",
   "metadata": {},
   "source": [
    "![](./problems/7-03.png)"
   ]
  },
  {
   "cell_type": "markdown",
   "id": "df6b5130-92d3-465c-bd33-16c72c00b82c",
   "metadata": {},
   "source": [
    "![](./problems/7-04.png)"
   ]
  },
  {
   "cell_type": "markdown",
   "id": "2e5287c5-dd85-4f85-9994-5723f114e126",
   "metadata": {},
   "source": [
    "![](./problems/7-05.png)"
   ]
  },
  {
   "cell_type": "markdown",
   "id": "771ea6fb-f341-4788-a19e-3e1497e2fdd7",
   "metadata": {},
   "source": [
    "![](./problems/7-06.png)"
   ]
  },
  {
   "cell_type": "markdown",
   "id": "23d685d2-7a4d-4498-bde7-e5d7e0edde09",
   "metadata": {},
   "source": [
    "![](./problems/7-07.png)"
   ]
  },
  {
   "cell_type": "markdown",
   "id": "488b82e9-0a35-4100-a811-53e4e2a189b2",
   "metadata": {},
   "source": [
    "![](./problems/7-08.png)"
   ]
  }
 ],
 "metadata": {
  "kernelspec": {
   "display_name": "Python 3 (ipykernel)",
   "language": "python",
   "name": "python3"
  },
  "language_info": {
   "codemirror_mode": {
    "name": "ipython",
    "version": 3
   },
   "file_extension": ".py",
   "mimetype": "text/x-python",
   "name": "python",
   "nbconvert_exporter": "python",
   "pygments_lexer": "ipython3",
   "version": "3.10.6"
  }
 },
 "nbformat": 4,
 "nbformat_minor": 5
}
