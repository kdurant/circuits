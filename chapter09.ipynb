{
 "cells": [
  {
   "cell_type": "code",
   "execution_count": 13,
   "id": "64d10f57-ec67-44ab-8a97-4c6cd6dcd72d",
   "metadata": {},
   "outputs": [],
   "source": [
    "import numpy as np\n",
    "import pandas as pd\n",
    "import matplotlib.pyplot as plt\n",
    "from sympy import *\n",
    "import math\n",
    "\n",
    "\n",
    "def parallel(*args):\n",
    "    ret = 0\n",
    "    for arg in args:\n",
    "        ret = 1 / arg + ret\n",
    "    return simplify(1 / ret)\n",
    "\n",
    "\n",
    "def p2r(amp, angle, mode=\"radian\"):\n",
    "    # convert polar form to rectangular form(z = x + i*y)\n",
    "    if mode == \"radian\":\n",
    "        return amp * (cos(angle) + I * sin(angle))\n",
    "    else:\n",
    "        return amp * (cos(math.radians(angle)) + I * sin(math.radians(angle)))\n",
    "\n",
    "\n",
    "def r2p(real, imaginary):\n",
    "    \"\"\"\n",
    "\tconvert rectangular form(z = x + i*y) to polar form\n",
    "    Abs(ans)\n",
    "    math.degrees(arg(ans))\n",
    "    \"\"\"\n",
    "    z = real + I * imaginary\n",
    "    magnitude = Abs(z)\n",
    "    phase = math.degrees(arg(z))\n",
    "    return magnitude, phase\n",
    "\n"
   ]
  },
  {
   "cell_type": "markdown",
   "id": "2d28425a-d70e-457e-bf33-757627a4ae60",
   "metadata": {},
   "source": [
    "# 正弦波\n",
    "![](./problems/eqs_09_10.png)\n",
    "\n",
    "从函数图像上亦可知道cos函数向右移动90度: $cos(wt-90)$，即为\n",
    "\n",
    "![](./problems/fig_09_03.png)\n",
    "\n",
    "### 相位差\n",
    "两个正弦量的初相相减，结果大于0时，第一个正弦量相位超前\n",
    "\n",
    "# 相量\n",
    "### 相量的三种形式\n",
    "![](./problems/fig_09_06.png)\n",
    "\n",
    "### 微分、积分的相量域形式\n",
    "- 时域微分等于相量域乘以**jW**\n",
    "- 时域积分等于相量域除以**jW**\n",
    "# 电路元件的相量形式\n",
    "# 阻抗和导纳\n",
    "# 基尔霍夫定律的频域形式\n",
    "# 阻抗合并"
   ]
  },
  {
   "cell_type": "markdown",
   "id": "d45787b8-cd0d-4e5e-b220-51c797ef5279",
   "metadata": {},
   "source": [
    "![](./problems/9-01.png)"
   ]
  },
  {
   "cell_type": "code",
   "execution_count": 12,
   "id": "4de7ef3a-fdb1-461d-8b94-68d922a52af6",
   "metadata": {},
   "outputs": [
    {
     "name": "stdout",
     "output_type": "stream",
     "text": [
      "Vm = 50V\n",
      "T = 0.209440\n",
      "f = 4.77465\n"
     ]
    }
   ],
   "source": [
    "Vm = 50\n",
    "w  = 30\n",
    "T  = (2*pi/w).evalf(6)\n",
    "f = 1/T\n",
    "print(\"Vm = {}V\\nT = {}\\nf = {}\".format(Vm, T, f))\n",
    "      "
   ]
  },
  {
   "cell_type": "markdown",
   "id": "f8c9a3be-8fc2-468c-8c0f-0ee7f912ef49",
   "metadata": {},
   "source": [
    "![](./problems/9-03.png)\n",
    "\n",
    "# (a)\n",
    "\n",
    "\\begin{align*}\n",
    "&= 10sin(wt-60+90) \\\\\n",
    "&= 10cos(wt-60) \\\\\n",
    "\\end{align*}\n",
    "\n",
    "# (b)\n",
    "\\begin{align*}\n",
    "&= -9sin(8t-90+90) \\\\\n",
    "&= -9cos(8t-90)\n",
    "\\end{align*}\n",
    "\n",
    "\\begin{align*}\n",
    "&= -9sin(8t+90 -90) \\\\\n",
    "&= -9* (-cos(8t-90)) \\\\\n",
    "&= 9cos(8t-90)\n",
    "\\end{align*}\n",
    "\n",
    "# (c)\n",
    "\\begin{align*}\n",
    "&= -20sin(wt+135-90) \\\\\n",
    "&= -20*(-cos(wt+135)) \\\\\n",
    "&= 20cos(wt+135)\n",
    "\\end{align*}"
   ]
  },
  {
   "cell_type": "markdown",
   "id": "2937d450-f0a6-40dc-aba5-6f2d3769df07",
   "metadata": {},
   "source": [
    "![](./problems/9-05.png)"
   ]
  },
  {
   "cell_type": "markdown",
   "id": "e8deaa7a-6332-4dc1-8368-1df3fdb43dc8",
   "metadata": {},
   "source": [
    "\\begin{align*}\n",
    "v1 &= 45sin(wt+30) \\\\\n",
    "&= 45sin(wt-60+90) \\\\\n",
    "&= 45cos(wt-60)\n",
    "\\end{align*}\n",
    "\n",
    "v1 lags v2"
   ]
  },
  {
   "cell_type": "markdown",
   "id": "8c934484-3a60-4577-b9d8-7e0da190a542",
   "metadata": {},
   "source": [
    "![](./problems/9-06.png)"
   ]
  },
  {
   "cell_type": "markdown",
   "id": "71de9009-37fc-40da-8091-fba46e294943",
   "metadata": {},
   "source": [
    "# (a)\n",
    "\\begin{align*}\n",
    "i(t) &= 4sin(4t+50) \\\\\n",
    "&= 4sin(4t-40+90) \\\\\n",
    "&= 4cos(4t-40) \\\\\n",
    "\\end{align*}\n",
    "\n",
    "i(t)领先20度\n",
    "\n",
    "# (b)\n",
    "\\begin{align*}\n",
    "v2 &= -20cos(377t) \\\\\n",
    "&= -20cos(377t-180+180) \\\\\n",
    "&= -20*(-cos(377t+180))\\\\\n",
    "&=  20cos(377t+180)\n",
    "\\end{align*}\n",
    "v2领先170度\n",
    "\n",
    "# (c)\n"
   ]
  },
  {
   "cell_type": "markdown",
   "id": "83b68db2-2e73-40e6-b727-e7c6f863a5e0",
   "metadata": {},
   "source": [
    "![](./problems/9-07.png)"
   ]
  },
  {
   "cell_type": "markdown",
   "id": "bd4e55de-d2fe-4dfc-bbc0-2df349a2a739",
   "metadata": {},
   "source": [
    "![](./problems/9-08.png)"
   ]
  },
  {
   "cell_type": "code",
   "execution_count": 23,
   "id": "6e5c231c-bb18-4f31-adcf-967383f4cbf9",
   "metadata": {},
   "outputs": [
    {
     "data": {
      "text/latex": [
       "$\\displaystyle -0.678822509939085 + 6.7517575695736 i$"
      ],
      "text/plain": [
       "-0.678822509939085 + 6.7517575695736*I"
      ]
     },
     "execution_count": 23,
     "metadata": {},
     "output_type": "execute_result"
    }
   ],
   "source": [
    "# (a)\n",
    "ans = p2r(60, 45, \"angle\")/(7.5-I*10) + 2*I\n",
    "simplify(ans)"
   ]
  },
  {
   "cell_type": "code",
   "execution_count": 25,
   "id": "dc5c4e93-79cf-47b7-99cd-0cef9812d32b",
   "metadata": {},
   "outputs": [
    {
     "data": {
      "text/latex": [
       "$\\displaystyle 0.414991735001515 - 0.62825042467457 i$"
      ],
      "text/plain": [
       "0.414991735001515 - 0.62825042467457*I"
      ]
     },
     "execution_count": 25,
     "metadata": {},
     "output_type": "execute_result"
    }
   ],
   "source": [
    "# (b)\n",
    "ans = p2r(32, -20, \"angle\")/((6-I*8)*(4+I*2)) + 20/(-10+I*24)\n",
    "simplify(ans)"
   ]
  },
  {
   "cell_type": "code",
   "execution_count": 26,
   "id": "840d71c7-582b-4485-9703-a00d6704cd05",
   "metadata": {},
   "outputs": [
    {
     "data": {
      "text/latex": [
       "$\\displaystyle 218.503541853767 + 62.1316656102973 i$"
      ],
      "text/plain": [
       "218.503541853767 + 62.1316656102973*I"
      ]
     },
     "execution_count": 26,
     "metadata": {},
     "output_type": "execute_result"
    }
   ],
   "source": [
    "# (c)\n",
    "ans = 20 + p2r(16, -50, \"angle\")*(5+I*12)\n",
    "simplify(ans)"
   ]
  },
  {
   "cell_type": "markdown",
   "id": "c1cf8f2b-7e33-442d-a576-387f16925fed",
   "metadata": {},
   "source": [
    "![](./problems/9-08.png)"
   ]
  },
  {
   "cell_type": "markdown",
   "id": "0e64d5b4-87be-4ecb-8802-7ec625b0bf67",
   "metadata": {},
   "source": [
    "![](./problems/9-09.png)"
   ]
  },
  {
   "cell_type": "markdown",
   "id": "76ac730b-f4da-4cae-9e6b-5591946876a8",
   "metadata": {},
   "source": [
    "![](./problems/9-11.png)"
   ]
  },
  {
   "cell_type": "markdown",
   "id": "6315115f-3928-4ee4-a46c-89a31a79a8b8",
   "metadata": {},
   "source": [
    "# (a)\n",
    "\n",
    "# (b)\n",
    "\\begin{align*}\n",
    "i(t) &= -8sin(10t+70) \\\\\n",
    "&= -8sin(10t +160 - 90) \\\\\n",
    "&= -8 *(-cos(10t+160)) \\\\\n",
    "&= 8cos(10t+160) \\\\\n",
    "\\end{align*}\n",
    "\n",
    "# (c)\n",
    "\\begin{align*}\n",
    "v(t) &= 120sin(10t-50) \\\\\n",
    "&= 120sin(10t-140+90) \\\\\n",
    "&= 120sin(10t-140)\n",
    "\\end{align*}\n",
    "\n",
    "# (d)\n",
    "\\begin{align*}\n",
    "i(t) &= -60cos(30t+10) \\\\\n",
    "&= -60cos(30t-170+180) \\\\\n",
    "&= 60cos(30t-170)\n",
    "\\end{align*}"
   ]
  },
  {
   "cell_type": "markdown",
   "id": "d5dc1ea5-046d-4e72-a7dd-61d44e1b5910",
   "metadata": {},
   "source": [
    "![](./problems/9-12.png)"
   ]
  },
  {
   "cell_type": "code",
   "execution_count": null,
   "id": "14b078d3-272a-408f-92ac-c554ac03081d",
   "metadata": {},
   "outputs": [],
   "source": []
  },
  {
   "cell_type": "markdown",
   "id": "0117899d-50e6-410d-90f7-5abd25592e9f",
   "metadata": {},
   "source": [
    "![](./problems/9-13.png)"
   ]
  },
  {
   "cell_type": "markdown",
   "id": "d3151674-9abf-48ad-bca4-c0e893028fae",
   "metadata": {},
   "source": [
    "![](./problems/9-14.png)"
   ]
  },
  {
   "cell_type": "markdown",
   "id": "8f649230-7d7f-48ad-bcb4-8628cd41bed5",
   "metadata": {},
   "source": [
    "![](./problems/9-15.png)"
   ]
  },
  {
   "cell_type": "markdown",
   "id": "19fca5ba-54e8-4d8b-aacd-7235d50b23c7",
   "metadata": {},
   "source": [
    "![](./problems/9-16.png)"
   ]
  },
  {
   "cell_type": "markdown",
   "id": "aacb3852-9aa6-4f55-93c8-6b485ece29aa",
   "metadata": {},
   "source": [
    "# (a)\n",
    "\\begin{align*}\n",
    "&= -20cos(4t-45+180) \\\\\n",
    "&= -20*(-cos(4t-45)) \\\\\n",
    "&= 20cos(4t-45)\n",
    "\\end{align*}\n",
    "\n",
    "# (b)\n",
    "\\begin{align*}\n",
    "&= 8sin(20t+30) \\\\\n",
    "&= 8sin(20t-60+90) \\\\\n",
    "&= 8cos(20t-60)\n",
    "\\end{align*}"
   ]
  },
  {
   "cell_type": "markdown",
   "id": "65682ac5-dbb8-40a0-96a7-463747a11d6d",
   "metadata": {},
   "source": [
    "![](./problems/9-17.png)"
   ]
  },
  {
   "cell_type": "markdown",
   "id": "7d7e230b-c974-4d0a-a81a-398168d64f6f",
   "metadata": {},
   "source": [
    "![](./problems/9-18.png)"
   ]
  },
  {
   "cell_type": "markdown",
   "id": "25ceb2df-9c6f-4a86-9a86-f1983a660385",
   "metadata": {},
   "source": [
    "![](./problems/9-19.png)"
   ]
  },
  {
   "cell_type": "markdown",
   "id": "de40ffa8-ddda-436a-acd5-c2649b52aef7",
   "metadata": {},
   "source": [
    "![](./problems/9-20.png)"
   ]
  },
  {
   "cell_type": "markdown",
   "id": "684d76d7-6063-4a88-a74c-6f357726b2dd",
   "metadata": {},
   "source": [
    "![](./problems/9-21.png)"
   ]
  },
  {
   "cell_type": "code",
   "execution_count": 35,
   "id": "219d9790-97df-422c-89b4-8b23bc2de2d8",
   "metadata": {},
   "outputs": [
    {
     "data": {
      "image/png": "[encoded data removed]",
      "text/plain": [
       "<Figure size 640x480 with 1 Axes>"
      ]
     },
     "metadata": {},
     "output_type": "display_data"
    },
    {
     "data": {
      "text/plain": [
       "<sympy.plotting.plot.Plot at 0x7ff9d7ddaa70>"
      ]
     },
     "execution_count": 35,
     "metadata": {},
     "output_type": "execute_result"
    }
   ],
   "source": [
    "# (a)\n",
    "t = symbols(\"t\")\n",
    "f1 = 5*cos(2*t+15)\n",
    "f2 = -4*sin(2*t-30)\n",
    "plot(f1, f2, f1+f2, (t, -pi, pi), legend=[f1, f2, f1+f2])"
   ]
  },
  {
   "cell_type": "markdown",
   "id": "8b8133cb-c21c-439b-aa32-a1f20ceb44d4",
   "metadata": {},
   "source": [
    "![](./problems/9-22.png)"
   ]
  },
  {
   "cell_type": "markdown",
   "id": "0f19afbd-a45b-4eb0-bfd4-89e161645eb1",
   "metadata": {},
   "source": [
    "![](./problems/9-23.png)"
   ]
  },
  {
   "cell_type": "markdown",
   "id": "6c0467dd-4556-4c34-a9ea-e6c9b231d671",
   "metadata": {},
   "source": [
    "![](./problems/9-24.png)"
   ]
  },
  {
   "cell_type": "markdown",
   "id": "f138e729-611a-48ef-b752-6cd00d29d693",
   "metadata": {},
   "source": [
    "![](./problems/9-25.png)"
   ]
  },
  {
   "cell_type": "markdown",
   "id": "9cc2c849-9955-4942-a2c0-c86dcfddd8cd",
   "metadata": {},
   "source": [
    "![](./problems/9-26.png)"
   ]
  },
  {
   "cell_type": "markdown",
   "id": "c3fd5597-0a33-43d8-bdcf-cd31ad281b79",
   "metadata": {},
   "source": [
    "![](./problems/9-27.png)"
   ]
  },
  {
   "cell_type": "markdown",
   "id": "e3e1d29f-8171-41cc-b289-6572040f720a",
   "metadata": {},
   "source": [
    "![](./problems/9-28.png)"
   ]
  },
  {
   "cell_type": "code",
   "execution_count": 37,
   "id": "0f46b64f-fe9b-4284-8f91-6132045f2239",
   "metadata": {},
   "outputs": [
    {
     "data": {
      "text/latex": [
       "$\\displaystyle \\frac{55 \\cos{\\left(377 t \\right)}}{4}$"
      ],
      "text/plain": [
       "55*cos(377*t)/4"
      ]
     },
     "execution_count": 37,
     "metadata": {},
     "output_type": "execute_result"
    }
   ],
   "source": [
    "vs = 110*cos(377*t)\n",
    "i = vs/8\n",
    "i"
   ]
  },
  {
   "cell_type": "markdown",
   "id": "fb60eb17-c653-4838-ae44-978b2bfaddd3",
   "metadata": {},
   "source": [
    "![](./problems/9-29.png)"
   ]
  },
  {
   "cell_type": "code",
   "execution_count": 38,
   "id": "a0b30e13-c1f7-4fd9-af6b-f1596632c5e0",
   "metadata": {},
   "outputs": [
    {
     "data": {
      "text/latex": [
       "$\\displaystyle - 2.0 \\cos{\\left(1000000.0 t + 25 \\right)}$"
      ],
      "text/plain": [
       "-2.0*cos(1000000.0*t + 25)"
      ]
     },
     "execution_count": 38,
     "metadata": {},
     "output_type": "execute_result"
    }
   ],
   "source": [
    "# 时域形式\n",
    "i = 4*sin(1e6*t+25)\n",
    "C = 2e-6\n",
    "v = integrate(i, t)/C\n",
    "v"
   ]
  },
  {
   "cell_type": "markdown",
   "id": "7189d6cd-6204-46f3-b2c3-b61151113189",
   "metadata": {},
   "source": [
    "![](./problems/9-30.png)"
   ]
  },
  {
   "cell_type": "code",
   "execution_count": null,
   "id": "454ed255-f0f9-462b-983c-b4df2338f7ec",
   "metadata": {},
   "outputs": [],
   "source": []
  }
 ],
 "metadata": {
  "kernelspec": {
   "display_name": "Python 3 (ipykernel)",
   "language": "python",
   "name": "python3"
  },
  "language_info": {
   "codemirror_mode": {
    "name": "ipython",
    "version": 3
   },
   "file_extension": ".py",
   "mimetype": "text/x-python",
   "name": "python",
   "nbconvert_exporter": "python",
   "pygments_lexer": "ipython3",
   "version": "3.10.6"
  }
 },
 "nbformat": 4,
 "nbformat_minor": 5
}
