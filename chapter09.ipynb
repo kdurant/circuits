{
 "cells": [
  {
   "cell_type": "markdown",
   "id": "2d28425a-d70e-457e-bf33-757627a4ae60",
   "metadata": {},
   "source": [
    "# 正弦波\n",
    "![](./problems/eqs_09_10.png)\n",
    "![](./problems/fig_09_03.png)\n",
    "# 相量\n",
    "# 电路元件的相量形式\n",
    "# 阻抗和导纳\n",
    "# 基尔霍夫定律的频域形式\n",
    "# 阻抗合并"
   ]
  },
  {
   "cell_type": "markdown",
   "id": "d45787b8-cd0d-4e5e-b220-51c797ef5279",
   "metadata": {},
   "source": [
    "![](./problems/9-01.png)"
   ]
  },
  {
   "cell_type": "code",
   "execution_count": 12,
   "id": "4de7ef3a-fdb1-461d-8b94-68d922a52af6",
   "metadata": {},
   "outputs": [
    {
     "name": "stdout",
     "output_type": "stream",
     "text": [
      "Vm = 50V\n",
      "T = 0.209440\n",
      "f = 4.77465\n"
     ]
    }
   ],
   "source": [
    "Vm = 50\n",
    "w  = 30\n",
    "T  = (2*pi/w).evalf(6)\n",
    "f = 1/T\n",
    "print(\"Vm = {}V\\nT = {}\\nf = {}\".format(Vm, T, f))\n",
    "      "
   ]
  },
  {
   "cell_type": "markdown",
   "id": "f8c9a3be-8fc2-468c-8c0f-0ee7f912ef49",
   "metadata": {},
   "source": [
    "![](./problems/9-03.png)"
   ]
  },
  {
   "cell_type": "markdown",
   "id": "c29a41ef-41ad-47b0-b8bb-6f672992a679",
   "metadata": {},
   "source": [
    "\n"
   ]
  },
  {
   "cell_type": "markdown",
   "id": "2937d450-f0a6-40dc-aba5-6f2d3769df07",
   "metadata": {},
   "source": [
    "![](./problems/9-05.png)"
   ]
  },
  {
   "cell_type": "markdown",
   "id": "8c934484-3a60-4577-b9d8-7e0da190a542",
   "metadata": {},
   "source": [
    "![](./problems/9-06.png)"
   ]
  },
  {
   "cell_type": "markdown",
   "id": "83b68db2-2e73-40e6-b727-e7c6f863a5e0",
   "metadata": {},
   "source": [
    "![](./problems/9-07.png)"
   ]
  },
  {
   "cell_type": "markdown",
   "id": "bd4e55de-d2fe-4dfc-bbc0-2df349a2a739",
   "metadata": {},
   "source": [
    "![](./problems/9-08.png)"
   ]
  }
 ],
 "metadata": {
  "kernelspec": {
   "display_name": "Python 3 (ipykernel)",
   "language": "python",
   "name": "python3"
  },
  "language_info": {
   "codemirror_mode": {
    "name": "ipython",
    "version": 3
   },
   "file_extension": ".py",
   "mimetype": "text/x-python",
   "name": "python",
   "nbconvert_exporter": "python",
   "pygments_lexer": "ipython3",
   "version": "3.10.6"
  }
 },
 "nbformat": 4,
 "nbformat_minor": 5
}
