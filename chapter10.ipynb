{
 "cells": [
  {
   "cell_type": "markdown",
   "id": "5fd56610-4daa-411e-b543-77be8ba0aa29",
   "metadata": {},
   "source": [
    "电路定理的交流形式\n",
    "# 节点电压法\n",
    "\n",
    "# 网孔电流法\n",
    "\n",
    "# 叠加定理\n",
    "\n",
    "# 电源转换\n",
    "\n",
    "# 戴维南、诺顿等效电路\n",
    "\n",
    "# 运算放大器的交流形式"
   ]
  },
  {
   "cell_type": "code",
   "execution_count": null,
   "id": "56da9dd9-c185-4bfa-b26e-ba9b79f5ad6e",
   "metadata": {},
   "outputs": [],
   "source": [
    "from sympy import *"
   ]
  },
  {
   "cell_type": "markdown",
   "id": "95cb9f19-911b-41b6-80c0-1de8b11f4207",
   "metadata": {},
   "source": [
    "![](./problems/10-01.png)"
   ]
  }
 ],
 "metadata": {
  "kernelspec": {
   "display_name": "Python 3 (ipykernel)",
   "language": "python",
   "name": "python3"
  },
  "language_info": {
   "codemirror_mode": {
    "name": "ipython",
    "version": 3
   },
   "file_extension": ".py",
   "mimetype": "text/x-python",
   "name": "python",
   "nbconvert_exporter": "python",
   "pygments_lexer": "ipython3",
   "version": "3.10.6"
  }
 },
 "nbformat": 4,
 "nbformat_minor": 5
}
