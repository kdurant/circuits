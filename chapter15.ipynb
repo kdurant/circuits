{
 "cells": [
  {
   "cell_type": "markdown",
   "id": "317558f5-08fc-40cf-9c54-5143fd8eae1d",
   "metadata": {},
   "source": [
    "# 拉普拉斯变换的定义\n",
    "# 拉普拉斯变换的属性\n",
    "# 拉普拉斯逆变换\n",
    "# 卷积积分\n",
    "# "
   ]
  },
  {
   "cell_type": "markdown",
   "id": "51e6f87b-dc3a-4041-99de-f3275e6f2cd1",
   "metadata": {},
   "source": [
    "![](./problems/15-01.png)"
   ]
  },
  {
   "cell_type": "code",
   "execution_count": 4,
   "id": "af00967d-06c1-49c1-89ea-5a1ad640706c",
   "metadata": {},
   "outputs": [
    {
     "name": "stdout",
     "output_type": "stream",
     "text": [
      "    s    \n",
      "─────────\n",
      "   2    2\n",
      "- a  + s \n",
      "    a    \n",
      "─────────\n",
      "   2    2\n",
      "- a  + s \n"
     ]
    }
   ],
   "source": [
    "# a)\n",
    "t, s, a = symbols(\"t s a\")\n",
    "ans = laplace_transform(cosh(a*t), t, s)\n",
    "pprint(ans[0])\n",
    "ans = laplace_transform(sinh(a*t), t, s)\n",
    "pprint(ans[0])"
   ]
  },
  {
   "cell_type": "markdown",
   "id": "21ab1835-e5b3-4d07-b8f5-f7e918e90bac",
   "metadata": {},
   "source": [
    "![](./problems/15-02.png)"
   ]
  },
  {
   "cell_type": "markdown",
   "id": "46914c60-605b-45ce-aaff-a56dc5ee1b17",
   "metadata": {},
   "source": [
    "![](./problems/15-03.png)"
   ]
  },
  {
   "cell_type": "markdown",
   "id": "8873795d-82fd-4b45-a5dd-a0389f4cc606",
   "metadata": {},
   "source": [
    "![](./problems/15-04.png)"
   ]
  },
  {
   "cell_type": "markdown",
   "id": "ffc76a89-3006-44ca-8662-152dd6807981",
   "metadata": {},
   "source": [
    "![](./problems/15-05.png)"
   ]
  },
  {
   "cell_type": "markdown",
   "id": "61cd3863-b37a-4c3b-8eca-1e6be4ebcd9f",
   "metadata": {},
   "source": [
    "![](./problems/15-06.png)"
   ]
  },
  {
   "cell_type": "markdown",
   "id": "643d6624-7f4d-400e-928c-8ec66a32a9ab",
   "metadata": {},
   "source": [
    "![](./problems/15-07.png)"
   ]
  },
  {
   "cell_type": "markdown",
   "id": "5c30d2dd-fb4e-4283-8302-3790909b1123",
   "metadata": {},
   "source": [
    "![](./problems/15-08.png)"
   ]
  },
  {
   "cell_type": "markdown",
   "id": "2fda3eed-bca8-4db3-b818-13df4adc6b00",
   "metadata": {},
   "source": [
    "![](./problems/15-09.png)"
   ]
  }
 ],
 "metadata": {
  "kernelspec": {
   "display_name": "Python 3 (ipykernel)",
   "language": "python",
   "name": "python3"
  },
  "language_info": {
   "codemirror_mode": {
    "name": "ipython",
    "version": 3
   },
   "file_extension": ".py",
   "mimetype": "text/x-python",
   "name": "python",
   "nbconvert_exporter": "python",
   "pygments_lexer": "ipython3",
   "version": "3.10.6"
  }
 },
 "nbformat": 4,
 "nbformat_minor": 5
}
